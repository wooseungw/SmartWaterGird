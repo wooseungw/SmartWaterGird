{
 "cells": [
  {
   "cell_type": "code",
   "execution_count": null,
   "metadata": {},
   "outputs": [],
   "source": [
    "import pandas as pd\n",
    "import numpy as np\n",
    "import os \n",
    "import geopandas as gpd\n",
    "import plotly.express as px\n",
    "from scipy.spatial import KDTree\n",
    "\n",
    "def count_nearby_points_kdtree(df, lat, lon, radius):\n",
    "    # 위도와 경도를 라디안으로 변환\n",
    "    df_rad = np.radians(df[['latitude', 'longitude']])\n",
    "    point_rad = np.radians([lat, lon])\n",
    "    \n",
    "    # KDTree 생성\n",
    "    tree = KDTree(df_rad)\n",
    "    \n",
    "    # 주어진 반경 내의 포인트 검색\n",
    "    indices = tree.query_ball_point(point_rad, np.radians(radius/6371))\n",
    "    return len(indices)\n",
    "\n",
    "# (37.6, 127.1) 주변 10km 이내의 포인트 개수 계산\n",
    "count = count_nearby_points_kdtree(df, 37.6, 127.1, 10)\n",
    "print(count)\n"
   ]
  },
  {
   "cell_type": "markdown",
   "metadata": {},
   "source": [
    "# 바다숲 지형정보"
   ]
  },
  {
   "cell_type": "code",
   "execution_count": 2,
   "metadata": {},
   "outputs": [
    {
     "name": "stdout",
     "output_type": "stream",
     "text": [
      "219\n"
     ]
    }
   ],
   "source": [
    "mf = gpd.read_file('./Marine_forest/Marine_forest.shp')\n",
    "count = len(mf[(mf['면적'] == mf['구역']) & (mf['면적'] == mf['규모'])])\n",
    "print(count)\n",
    "mf.drop(columns=['구역','규모'],inplace=True)\n",
    "col_names = {'시도명': 'province','시군구명':'city','시군구코드':'city_code','위도':'latitude','경도':'longitude','마을어장':'town','면적':'area'}\n",
    "mf.rename(columns=col_names, inplace=True)\n",
    "#기본 칼럼인 위도 경도는 오류가 있었음\n",
    "mf['latitude'] = mf['geometry'].y\n",
    "mf['longitude'] = mf['geometry'].x"
   ]
  },
  {
   "cell_type": "code",
   "execution_count": null,
   "metadata": {},
   "outputs": [],
   "source": [
    "title = '2013~2022년 바다숲 조성사업 현황'\n",
    "buff = mf\n",
    "buff = buff.to_crs(epsg=32652)\n",
    "center = {'lat': 35.8, 'lon': buff['longitude'].median()}\n",
    "fig = px.scatter_mapbox(buff, lat=buff['latitude'], lon=buff['longitude'], size=buff['area'],\n",
    "                        color=buff['area'], size_max=50, zoom=5, center=center, title =title)\n",
    "fig.update_layout(mapbox_style=\"open-street-map\", margin={\"r\":10,\"t\":70,\"l\":20,\"b\":20},\n",
    "                  width=1200 , height=800)\n",
    "fig.show()"
   ]
  }
 ],
 "metadata": {
  "kernelspec": {
   "display_name": "smrt",
   "language": "python",
   "name": "python3"
  },
  "language_info": {
   "codemirror_mode": {
    "name": "ipython",
    "version": 3
   },
   "file_extension": ".py",
   "mimetype": "text/x-python",
   "name": "python",
   "nbconvert_exporter": "python",
   "pygments_lexer": "ipython3",
   "version": "3.12.0"
  }
 },
 "nbformat": 4,
 "nbformat_minor": 2
}
