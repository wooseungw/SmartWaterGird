{
 "cells": [
  {
   "cell_type": "code",
   "execution_count": 1,
   "metadata": {},
   "outputs": [],
   "source": [
    "import pandas as pd\n",
    "import numpy as np\n",
    "import os \n"
   ]
  },
  {
   "cell_type": "code",
   "execution_count": 8,
   "metadata": {},
   "outputs": [],
   "source": [
    "import pandas as pd\n",
    "import os\n",
    "\n",
    "# Ocean_data 폴더 내의 모든 CSV 파일 목록을 가져옵니다.\n",
    "folder_path = 'Ocean_data'\n",
    "all_files = [f for f in os.listdir(folder_path) if f.endswith('.csv') and f.startswith('19') or f.startswith('20')]\n",
    "\n",
    "# 각 파일을 순차적으로 읽어 데이터 프레임 리스트에 추가합니다.\n",
    "dfs = []\n",
    "for filename in all_files:\n",
    "    file_path = os.path.join(folder_path, filename)\n",
    "    df = pd.read_csv(file_path)\n",
    "    dfs.append(df)\n",
    "\n",
    "# 모든 데이터 프레임을 하나로 합칩니다.\n",
    "merged_data = pd.concat(dfs, ignore_index=True)\n",
    "merged_data.drop(columns=['project_name'], inplace=True)"
   ]
  },
  {
   "cell_type": "code",
   "execution_count": 9,
   "metadata": {},
   "outputs": [],
   "source": [
    "surface_df = merged_data.loc[merged_data['수심(text)'] == '표층']\n",
    "low_df = merged_data.loc[merged_data['수심(text)'] == '저층']"
   ]
  },
  {
   "cell_type": "code",
   "execution_count": 12,
   "metadata": {},
   "outputs": [],
   "source": [
    "if not os.path.exists(folder_path):\n",
    "    os.makedirs('./data/')\n"
   ]
  }
 ],
 "metadata": {
  "kernelspec": {
   "display_name": "smrt",
   "language": "python",
   "name": "python3"
  },
  "language_info": {
   "codemirror_mode": {
    "name": "ipython",
    "version": 3
   },
   "file_extension": ".py",
   "mimetype": "text/x-python",
   "name": "python",
   "nbconvert_exporter": "python",
   "pygments_lexer": "ipython3",
   "version": "3.12.0"
  }
 },
 "nbformat": 4,
 "nbformat_minor": 2
}
