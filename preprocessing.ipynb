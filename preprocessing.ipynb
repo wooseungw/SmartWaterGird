{
 "cells": [
  {
   "cell_type": "code",
   "execution_count": 1,
   "metadata": {},
   "outputs": [],
   "source": [
    "import pandas as pd\n",
    "import numpy as np\n",
    "import os \n"
   ]
  },
  {
   "cell_type": "code",
   "execution_count": 8,
   "metadata": {},
   "outputs": [],
   "source": [
    "import pandas as pd\n",
    "import os\n",
    "\n",
    "# Ocean_data 폴더 내의 모든 CSV 파일 목록을 가져옵니다.\n",
    "folder_path = 'Ocean_data'\n",
    "all_files = [f for f in os.listdir(folder_path) if f.endswith('.csv') and f.startswith('19') or f.startswith('20')]\n",
    "\n",
    "# 각 파일을 순차적으로 읽어 데이터 프레임 리스트에 추가합니다.\n",
    "dfs = []\n",
    "for filename in all_files:\n",
    "    file_path = os.path.join(folder_path, filename)\n",
    "    df = pd.read_csv(file_path)\n",
    "    dfs.append(df)\n",
    "\n",
    "# 모든 데이터 프레임을 하나로 합칩니다.\n",
    "merged_data = pd.concat(dfs, ignore_index=True)\n",
    "merged_data.drop(columns=['project_name'], inplace=True)"
   ]
  },
  {
   "cell_type": "code",
   "execution_count": 7,
   "metadata": {},
   "outputs": [
    {
     "name": "stdout",
     "output_type": "stream",
     "text": [
      "     station  yyyy-mm-dd hh:mm:ss  Longitude [degrees_east]  \\\n",
      "0  가로림연안1_연안  1997-02-01 00:00:00                126.326944   \n",
      "2  가로림연안1_연안  1997-05-01 00:00:00                126.326944   \n",
      "4  가로림연안1_연안  1997-08-01 00:00:00                126.326944   \n",
      "6  가로림연안1_연안  1997-11-01 00:00:00                126.326944   \n",
      "8  가로림연안2_연안  1997-02-01 00:00:00                126.313333   \n",
      "\n",
      "   Latitude [degrees_north]  bot.depth[m]  수심(m) 수심(text)  총질소[μg/L]  tn_qc  \\\n",
      "0                 36.946389           0.0    0.0       표층        NaN    NaN   \n",
      "2                 36.946389           0.0    0.0       표층        NaN    NaN   \n",
      "4                 36.946389           0.0    0.0       표층        NaN    NaN   \n",
      "6                 36.946389           0.0    0.0       표층        NaN    NaN   \n",
      "8                 36.990000           0.0    0.0       표층        NaN    NaN   \n",
      "\n",
      "   염분[psu]  ...  amn_qc  유분[mg/L]  fra_qc  총인[μg/L]  totp_qc  dep_flag  \\\n",
      "0    32.34  ...     2.0       NaN     NaN       NaN      NaN       NaN   \n",
      "2    31.39  ...     2.0       NaN     NaN       NaN      NaN       NaN   \n",
      "4    31.63  ...     2.0       NaN     NaN       NaN      NaN       NaN   \n",
      "6    32.47  ...     2.0       NaN     NaN       NaN      NaN       NaN   \n",
      "8    32.26  ...     2.0       NaN     NaN       NaN      NaN       NaN   \n",
      "\n",
      "   부유물질 농도[mg/L]  유효시간  전체수심(m)  totdisn_qc  \n",
      "0            NaN   NaN      NaN         NaN  \n",
      "2            NaN   NaN      NaN         NaN  \n",
      "4            NaN   NaN      NaN         NaN  \n",
      "6            NaN   NaN      NaN         NaN  \n",
      "8            NaN   NaN      NaN         NaN  \n",
      "\n",
      "[5 rows x 46 columns]\n"
     ]
    }
   ],
   "source": [
    "surface_df = merged_data.loc[merged_data['수심(text)'] == '표층']\n"
   ]
  }
 ],
 "metadata": {
  "kernelspec": {
   "display_name": "smrt",
   "language": "python",
   "name": "python3"
  },
  "language_info": {
   "codemirror_mode": {
    "name": "ipython",
    "version": 3
   },
   "file_extension": ".py",
   "mimetype": "text/x-python",
   "name": "python",
   "nbconvert_exporter": "python",
   "pygments_lexer": "ipython3",
   "version": "3.12.0"
  }
 },
 "nbformat": 4,
 "nbformat_minor": 2
}
